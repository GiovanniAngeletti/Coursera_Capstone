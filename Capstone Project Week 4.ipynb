{
 "cells": [
  {
   "cell_type": "markdown",
   "metadata": {
    "collapsed": true
   },
   "source": [
    "# Coursera Capstone Project\n",
    "\n",
    "Capstone Project for IBM Data Science Professional Certificate"
   ]
  },
  {
   "cell_type": "markdown",
   "metadata": {},
   "source": [
    " # 1. Introduction \n",
    " \n",
    "##### Background:\n",
    "\n",
    "Toronto, capital of Ontario, is the largest city in Canada. It is also the country's central tourism, business and technology hub. Toronto is home to a diverse range of tourist attractions, from its mix of restaurants featuring cuisines across the globe, museums, bars, or parks to the world-famous CN Tower. There is never a shortage of things for visitors to do, therefore, it is essential to plan ahead which area in the city to visit. This project attempts to segments the city of Toronto into clusters based on the most popular venues so that first-time visitors to the city have an easier time deciding where to visit based on their interests\n",
    "\n",
    "##### Problem: Where in Toronto should first-time tourists visit?\n",
    "\n",
    "Using data science, geospatial analysis and machine learning techniques, this project aims to provide a solution for this problem and recommending the best neighbourhood to visit given a visitor's interests."
   ]
  },
  {
   "cell_type": "markdown",
   "metadata": {},
   "source": [
    "# 2. Data Set\n",
    "\n",
    "The project requires data from three data sources:\n",
    "\n",
    "- Wikipedia to retrieve postal code and neighborhood information for each borough in Toronto.\n",
    "- A csv file to retrieve geographical location (latitude, longitude) for each borough.\n",
    "- The use of Foursquare API to fetch information for all venues in the vicinity of a given neighborhood. With the Foursquare API we can explore the most common venue types in a given area to later create a feature matrix for each neighborhood in Toronto."
   ]
  },
  {
   "cell_type": "markdown",
   "metadata": {},
   "source": [
    "# 3. Data Clean Up\n",
    "\n",
    "- For the Wiki data set, drop all postal codes that are not associated with a borough (value = 'Not Assigned').\n",
    "- Merge the Wiki data set and the data set obtained using the csv file to produce a dataframe with complete latitude and longitude information for each postal code.\n",
    "- Use the df.explode() method to break the dataframe into rows where each row stores information of a neighborhood (previously each row storers information of a list of neighborhood).\n",
    "- Once the data are ready, we use the Foursquare API to get the venues near each neighborhood"
   ]
  },
  {
   "cell_type": "code",
   "execution_count": null,
   "metadata": {},
   "outputs": [],
   "source": []
  }
 ],
 "metadata": {
  "kernelspec": {
   "display_name": "Python 3.7",
   "language": "python",
   "name": "python3"
  },
  "language_info": {
   "codemirror_mode": {
    "name": "ipython",
    "version": 3
   },
   "file_extension": ".py",
   "mimetype": "text/x-python",
   "name": "python",
   "nbconvert_exporter": "python",
   "pygments_lexer": "ipython3",
   "version": "3.7.10"
  }
 },
 "nbformat": 4,
 "nbformat_minor": 1
}
